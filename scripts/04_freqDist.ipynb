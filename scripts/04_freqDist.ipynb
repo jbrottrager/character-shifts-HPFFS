{
 "cells": [
  {
   "cell_type": "markdown",
   "metadata": {},
   "source": [
    "# Character Shifts in Harry Potter Fanfics\n",
    "\n",
    "# Cooccurring words"
   ]
  },
  {
   "cell_type": "markdown",
   "metadata": {},
   "source": [
    "### Last updated: 19.01.2022"
   ]
  },
  {
   "cell_type": "markdown",
   "metadata": {},
   "source": [
    "### 1. Required Libraries"
   ]
  },
  {
   "cell_type": "code",
   "execution_count": 1,
   "metadata": {},
   "outputs": [],
   "source": [
    "import pandas as pd\n",
    "import io\n",
    "import csv\n",
    "import glob\n",
    "import re\n",
    "import nltk\n",
    "import spacy\n",
    "from nltk import FreqDist\n",
    "from nltk import word_tokenize"
   ]
  },
  {
   "cell_type": "code",
   "execution_count": 2,
   "metadata": {},
   "outputs": [],
   "source": [
    "path_cooccurrences = r'Z:\\Fanfiction\\HP_Character-Distribution\\pamphlet_character_shifts\\results\\results\\cooccurrences'"
   ]
  },
  {
   "cell_type": "code",
   "execution_count": 3,
   "metadata": {},
   "outputs": [],
   "source": [
    "stopwords = nltk.corpus.stopwords.words('german')\n",
    "nlp = spacy.load('de_core_news_sm')\n",
    "nlp.max_length = 1000000000"
   ]
  },
  {
   "cell_type": "code",
   "execution_count": 4,
   "metadata": {},
   "outputs": [],
   "source": [
    "path_txt = path_cooccurrences + '\\\\ffs_pairs_sentences'\n",
    "list_files = glob.glob(path_txt + '/*.txt')"
   ]
  },
  {
   "cell_type": "code",
   "execution_count": 5,
   "metadata": {},
   "outputs": [],
   "source": [
    "all_texts = []\n",
    "for file in list_files:\n",
    "    filename = re.sub(r'.+?sentences\\\\(.+).txt', r'\\1', file)\n",
    "    \n",
    "    with open(file, 'r', encoding='utf-8') as txt_file:\n",
    "        doc = txt_file.readlines()\n",
    "        \n",
    "    all_texts.append(doc)"
   ]
  },
  {
   "cell_type": "code",
   "execution_count": 6,
   "metadata": {
    "scrolled": false
   },
   "outputs": [],
   "source": [
    "texts_in_sents = []\n",
    "i = 0\n",
    "\n",
    "for pair in all_texts:\n",
    "    filename = re.sub(r'.+?sentences\\\\(.+).txt', r'\\1', list_files[i])\n",
    "    toknum = 0\n",
    "    toks = []\n",
    "    for sentence in pair:\n",
    "        tokenized = word_tokenize(sentence)\n",
    "        toknum += len(tokenized)\n",
    "        for tok in tokenized:\n",
    "            if tok not in stopwords and tok.isalpha():\n",
    "                toks.append(tok)\n",
    "    \n",
    "    fdist = FreqDist(word for word in toks)\n",
    "    df_fdist = pd.DataFrame.from_dict(fdist, orient='index')\n",
    "    df_fdist.columns = ['relative_frequency']\n",
    "    df_fdist.index.name = 'term'\n",
    "    df_fdist['relative_frequency'] = df_fdist['relative_frequency'].div(toknum)\n",
    "    \n",
    "    df_fdist_filename = path_cooccurrences + '\\\\cooccurring_words\\\\ffs\\\\' + filename + '_fdist_verbs.csv'\n",
    "    df_fdist.to_csv(df_fdist_filename)\n",
    "    i += 1"
   ]
  },
  {
   "cell_type": "code",
   "execution_count": 7,
   "metadata": {},
   "outputs": [],
   "source": [
    "path_txt = path_cooccurrences + '\\\\originals_pairs_sentences'\n",
    "list_files = glob.glob(path_txt + '/*.txt')"
   ]
  },
  {
   "cell_type": "code",
   "execution_count": 8,
   "metadata": {},
   "outputs": [],
   "source": [
    "all_texts = []\n",
    "for file in list_files:\n",
    "    filename = re.sub(r'.+?sentences\\\\(.+).txt', r'\\1', file)\n",
    "    \n",
    "    with open(file, 'r', encoding='utf-8') as txt_file:\n",
    "        doc = txt_file.readlines()\n",
    "        \n",
    "    all_texts.append(doc)"
   ]
  },
  {
   "cell_type": "code",
   "execution_count": 10,
   "metadata": {},
   "outputs": [],
   "source": [
    "texts_in_sents = []\n",
    "i = 0\n",
    "\n",
    "for pair in all_texts:\n",
    "    filename = re.sub(r'.+?sentences\\\\(.+).txt', r'\\1', list_files[i])\n",
    "    toknum = 0\n",
    "    toks = []\n",
    "    for sentence in pair:\n",
    "        tokenized = word_tokenize(sentence)\n",
    "        toknum += len(tokenized)\n",
    "        for tok in tokenized:\n",
    "            if tok not in stopwords and tok.isalpha():\n",
    "                toks.append(tok)\n",
    "    \n",
    "    fdist = FreqDist(word for word in toks)\n",
    "    df_fdist = pd.DataFrame.from_dict(fdist, orient='index')\n",
    "    df_fdist.columns = ['relative_frequency']\n",
    "    df_fdist.index.name = 'term'\n",
    "    df_fdist['relative_frequency'] = df_fdist['relative_frequency'].div(toknum)\n",
    "    \n",
    "    df_fdist_filename = path_cooccurrences + '\\\\cooccurring_words\\\\originals\\\\' + filename + '_fdist_verbs.csv'\n",
    "    df_fdist.to_csv(df_fdist_filename)\n",
    "    i += 1"
   ]
  }
 ],
 "metadata": {
  "kernelspec": {
   "display_name": "Python 3",
   "language": "python",
   "name": "python3"
  },
  "language_info": {
   "codemirror_mode": {
    "name": "ipython",
    "version": 3
   },
   "file_extension": ".py",
   "mimetype": "text/x-python",
   "name": "python",
   "nbconvert_exporter": "python",
   "pygments_lexer": "ipython3",
   "version": "3.8.5"
  }
 },
 "nbformat": 4,
 "nbformat_minor": 5
}
