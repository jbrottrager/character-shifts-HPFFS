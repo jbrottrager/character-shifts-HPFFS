{
 "cells": [
  {
   "cell_type": "markdown",
   "metadata": {},
   "source": [
    "# Character Shifts in Harry Potter Fanfics\n",
    "\n",
    "# Frequencies for all Emotion Words"
   ]
  },
  {
   "cell_type": "markdown",
   "metadata": {},
   "source": [
    "### Last updated: 19.01.2022"
   ]
  },
  {
   "cell_type": "markdown",
   "metadata": {},
   "source": [
    "1. import BAWL-R\n",
    "2. extract WORD, WORD_LOWER, WORD_CLASS, EMO_MEAN, EMO_STD, AROUSAL_MEAN, AROUSAL_STD as lists\n",
    "3. create list ORIGINALS_FREQ and FFS_FREQ based on the list WORD_LOWER\n",
    "4. create new xlsx-file with WORD, WORD_LOWER, WORD_CLASS, EMO_MEAN, EMO_STD, AROUSAL_MEAN, AROUSAL_STD + ORIGINALS_FREQ, FFS_FREQ"
   ]
  },
  {
   "cell_type": "code",
   "execution_count": 1,
   "metadata": {},
   "outputs": [],
   "source": [
    "path_data = r'Z:\\Fanfiction\\HP_Character-Distribution\\pamphlet_character_shifts\\data'\n",
    "path_results = r'Z:\\Fanfiction\\HP_Character-Distribution\\pamphlet_character_shifts\\results'"
   ]
  },
  {
   "cell_type": "code",
   "execution_count": 2,
   "metadata": {},
   "outputs": [],
   "source": [
    "# 1. import BAWL-R\n",
    "\n",
    "import pandas as pd\n",
    "\n",
    "df = pd.read_excel(path_data + '\\\\bawl\\\\BAWL-R.xlsx')"
   ]
  },
  {
   "cell_type": "code",
   "execution_count": 3,
   "metadata": {},
   "outputs": [],
   "source": [
    "# 2. extract WORD, WORD_LOWER, WORD_CLASS, EMO_MEAN, EMO_STD, AROUSAL_MEAN, AROUSAL_STD as lists\n",
    "\n",
    "WORD = df['WORD'].tolist()"
   ]
  },
  {
   "cell_type": "code",
   "execution_count": 4,
   "metadata": {},
   "outputs": [
    {
     "data": {
      "text/plain": [
       "2902"
      ]
     },
     "execution_count": 4,
     "metadata": {},
     "output_type": "execute_result"
    }
   ],
   "source": [
    "len(WORD)"
   ]
  },
  {
   "cell_type": "code",
   "execution_count": 5,
   "metadata": {},
   "outputs": [],
   "source": [
    "WORD_LOWER = df['WORD_LOWER'].tolist()\n",
    "\n",
    "WORD_CLASS = df['WORD_CLASS'].tolist()\n",
    "\n",
    "EMO_MEAN = df['EMO_MEAN'].tolist()\n",
    "\n",
    "EMO_STD = df['EMO_STD'].tolist()\n",
    "\n",
    "AROUSAL_MEAN = df['AROUSAL_MEAN'].tolist()\n",
    "\n",
    "AROUSAL_STD = df['AROUSAL_STD'].tolist()\n"
   ]
  },
  {
   "cell_type": "code",
   "execution_count": 6,
   "metadata": {},
   "outputs": [],
   "source": [
    "# 3. create list ORIGINALS_FREQ and FFS_FREQ based on the list WORD_LOWER\n",
    "\n",
    "import csv\n",
    "\n",
    "with open(path_results + '\\\\hp_originals_texts_lemmatized_words.csv', newline='') as f:\n",
    "    reader = csv.reader(f)\n",
    "    hp_originals_words = list(reader)"
   ]
  },
  {
   "cell_type": "code",
   "execution_count": 7,
   "metadata": {},
   "outputs": [],
   "source": [
    "with open(path_results + '\\\\hp_ffs_texts_lemmatized_words.csv', newline='') as f:\n",
    "    reader = csv.reader(f)\n",
    "    hp_ffs_words = list(reader)"
   ]
  },
  {
   "cell_type": "code",
   "execution_count": 8,
   "metadata": {},
   "outputs": [],
   "source": [
    "# flatten lists\n",
    "\n",
    "hp_originals_words = [word for sublist in hp_originals_words for word in sublist]"
   ]
  },
  {
   "cell_type": "code",
   "execution_count": 9,
   "metadata": {},
   "outputs": [],
   "source": [
    "hp_ffs_words = [word for sublist in hp_ffs_words for word in sublist]"
   ]
  },
  {
   "cell_type": "code",
   "execution_count": 10,
   "metadata": {},
   "outputs": [],
   "source": [
    "# create frequency lists\n",
    "\n",
    "ORIGINALS_FREQ = []\n",
    "\n",
    "for word in WORD_LOWER:\n",
    "    ORIGINALS_FREQ.append(hp_originals_words.count(word))"
   ]
  },
  {
   "cell_type": "code",
   "execution_count": 11,
   "metadata": {},
   "outputs": [],
   "source": [
    "FFS_FREQ = []\n",
    "\n",
    "for word in WORD_LOWER:\n",
    "    FFS_FREQ.append(hp_ffs_words.count(word))"
   ]
  },
  {
   "cell_type": "code",
   "execution_count": 12,
   "metadata": {},
   "outputs": [],
   "source": [
    "# 4. create new xlsx-file with WORD, WORD_LOWER, WORD_CLASS, EMO_MEAN, EMO_STD, AROUSAL_MEAN, AROUSAL_STD + ORIGINALS_FREQ, FFS_FREQ\n",
    "\n",
    "BAWLR_with_freqs = pd.DataFrame(\n",
    "    {'WORD': WORD,\n",
    "     'WORD_LOWER': WORD_LOWER,\n",
    "     'WORD_CLASS ': WORD_CLASS ,\n",
    "     'EMO_MEAN': EMO_MEAN,\n",
    "     'EMO_STD': EMO_STD,\n",
    "     'AROUSAL_MEAN': AROUSAL_MEAN,\n",
    "     'AROUSAL_STD': AROUSAL_STD,\n",
    "     'ORIGINALS_FREQ': ORIGINALS_FREQ,\n",
    "     'FFS_FREQ': FFS_FREQ\n",
    "    }\n",
    ")"
   ]
  },
  {
   "cell_type": "code",
   "execution_count": 13,
   "metadata": {},
   "outputs": [],
   "source": [
    "BAWLR_with_freqs.to_excel(path_data + '\\\\bawl\\\\BAWLR_with_freqs.xlsx')"
   ]
  },
  {
   "cell_type": "code",
   "execution_count": 14,
   "metadata": {},
   "outputs": [],
   "source": [
    "BAWLR_with_freqs.to_csv(path_data + '\\\\bawl\\\\BAWLR_with_freqs.csv')"
   ]
  }
 ],
 "metadata": {
  "kernelspec": {
   "display_name": "Python 3",
   "language": "python",
   "name": "python3"
  },
  "language_info": {
   "codemirror_mode": {
    "name": "ipython",
    "version": 3
   },
   "file_extension": ".py",
   "mimetype": "text/x-python",
   "name": "python",
   "nbconvert_exporter": "python",
   "pygments_lexer": "ipython3",
   "version": "3.8.5"
  }
 },
 "nbformat": 4,
 "nbformat_minor": 5
}
